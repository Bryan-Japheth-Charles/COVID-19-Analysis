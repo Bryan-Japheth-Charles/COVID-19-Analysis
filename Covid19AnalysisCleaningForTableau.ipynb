{
 "cells": [
  {
   "cell_type": "code",
   "execution_count": 1,
   "id": "553b1186-8cf1-458e-8708-3c108986e607",
   "metadata": {},
   "outputs": [],
   "source": [
    "import pandas as pd\n",
    "import numpy as np\n",
    "import matplotlib.pyplot as plt\n",
    "import seaborn as sns\n",
    "import warnings\n",
    "warnings.filterwarnings(\"ignore\")"
   ]
  },
  {
   "cell_type": "markdown",
   "id": "0cbb1796-9c97-4b03-a7f5-90cb962ad7f5",
   "metadata": {},
   "source": [
    "### Import all the necessary libraries "
   ]
  },
  {
   "cell_type": "markdown",
   "id": "f30ad93a-2ea8-4f6f-ba10-2b3f79881a09",
   "metadata": {},
   "source": [
    "### Load the dataset and learn the data "
   ]
  },
  {
   "cell_type": "code",
   "execution_count": 2,
   "id": "4b61ae8e-6b58-4bba-b69b-1f0e1ef092c7",
   "metadata": {},
   "outputs": [],
   "source": [
    "df = pd.read_csv('Covid data.csv')"
   ]
  },
  {
   "cell_type": "code",
   "execution_count": 3,
   "id": "c18cadf1-3a37-4af3-89f4-f5d173fb113d",
   "metadata": {},
   "outputs": [
    {
     "data": {
      "text/html": [
       "<div>\n",
       "<style scoped>\n",
       "    .dataframe tbody tr th:only-of-type {\n",
       "        vertical-align: middle;\n",
       "    }\n",
       "\n",
       "    .dataframe tbody tr th {\n",
       "        vertical-align: top;\n",
       "    }\n",
       "\n",
       "    .dataframe thead th {\n",
       "        text-align: right;\n",
       "    }\n",
       "</style>\n",
       "<table border=\"1\" class=\"dataframe\">\n",
       "  <thead>\n",
       "    <tr style=\"text-align: right;\">\n",
       "      <th></th>\n",
       "      <th>USMER</th>\n",
       "      <th>MEDICAL_UNIT</th>\n",
       "      <th>SEX</th>\n",
       "      <th>PATIENT_TYPE</th>\n",
       "      <th>DATE_DIED</th>\n",
       "      <th>INTUBED</th>\n",
       "      <th>PNEUMONIA</th>\n",
       "      <th>AGE</th>\n",
       "      <th>PREGNANT</th>\n",
       "      <th>DIABETES</th>\n",
       "      <th>...</th>\n",
       "      <th>ASTHMA</th>\n",
       "      <th>INMSUPR</th>\n",
       "      <th>HIPERTENSION</th>\n",
       "      <th>OTHER_DISEASE</th>\n",
       "      <th>CARDIOVASCULAR</th>\n",
       "      <th>OBESITY</th>\n",
       "      <th>RENAL_CHRONIC</th>\n",
       "      <th>TOBACCO</th>\n",
       "      <th>CLASIFFICATION_FINAL</th>\n",
       "      <th>ICU</th>\n",
       "    </tr>\n",
       "  </thead>\n",
       "  <tbody>\n",
       "    <tr>\n",
       "      <th>0</th>\n",
       "      <td>2</td>\n",
       "      <td>1</td>\n",
       "      <td>1</td>\n",
       "      <td>1</td>\n",
       "      <td>03/05/2020</td>\n",
       "      <td>97</td>\n",
       "      <td>1</td>\n",
       "      <td>65</td>\n",
       "      <td>2</td>\n",
       "      <td>2</td>\n",
       "      <td>...</td>\n",
       "      <td>2</td>\n",
       "      <td>2</td>\n",
       "      <td>1</td>\n",
       "      <td>2</td>\n",
       "      <td>2</td>\n",
       "      <td>2</td>\n",
       "      <td>2</td>\n",
       "      <td>2</td>\n",
       "      <td>3</td>\n",
       "      <td>97</td>\n",
       "    </tr>\n",
       "    <tr>\n",
       "      <th>1</th>\n",
       "      <td>2</td>\n",
       "      <td>1</td>\n",
       "      <td>2</td>\n",
       "      <td>1</td>\n",
       "      <td>03/06/2020</td>\n",
       "      <td>97</td>\n",
       "      <td>1</td>\n",
       "      <td>72</td>\n",
       "      <td>97</td>\n",
       "      <td>2</td>\n",
       "      <td>...</td>\n",
       "      <td>2</td>\n",
       "      <td>2</td>\n",
       "      <td>1</td>\n",
       "      <td>2</td>\n",
       "      <td>2</td>\n",
       "      <td>1</td>\n",
       "      <td>1</td>\n",
       "      <td>2</td>\n",
       "      <td>5</td>\n",
       "      <td>97</td>\n",
       "    </tr>\n",
       "    <tr>\n",
       "      <th>2</th>\n",
       "      <td>2</td>\n",
       "      <td>1</td>\n",
       "      <td>2</td>\n",
       "      <td>2</td>\n",
       "      <td>09/06/2020</td>\n",
       "      <td>1</td>\n",
       "      <td>2</td>\n",
       "      <td>55</td>\n",
       "      <td>97</td>\n",
       "      <td>1</td>\n",
       "      <td>...</td>\n",
       "      <td>2</td>\n",
       "      <td>2</td>\n",
       "      <td>2</td>\n",
       "      <td>2</td>\n",
       "      <td>2</td>\n",
       "      <td>2</td>\n",
       "      <td>2</td>\n",
       "      <td>2</td>\n",
       "      <td>3</td>\n",
       "      <td>2</td>\n",
       "    </tr>\n",
       "    <tr>\n",
       "      <th>3</th>\n",
       "      <td>2</td>\n",
       "      <td>1</td>\n",
       "      <td>1</td>\n",
       "      <td>1</td>\n",
       "      <td>12/06/2020</td>\n",
       "      <td>97</td>\n",
       "      <td>2</td>\n",
       "      <td>53</td>\n",
       "      <td>2</td>\n",
       "      <td>2</td>\n",
       "      <td>...</td>\n",
       "      <td>2</td>\n",
       "      <td>2</td>\n",
       "      <td>2</td>\n",
       "      <td>2</td>\n",
       "      <td>2</td>\n",
       "      <td>2</td>\n",
       "      <td>2</td>\n",
       "      <td>2</td>\n",
       "      <td>7</td>\n",
       "      <td>97</td>\n",
       "    </tr>\n",
       "    <tr>\n",
       "      <th>4</th>\n",
       "      <td>2</td>\n",
       "      <td>1</td>\n",
       "      <td>2</td>\n",
       "      <td>1</td>\n",
       "      <td>21/06/2020</td>\n",
       "      <td>97</td>\n",
       "      <td>2</td>\n",
       "      <td>68</td>\n",
       "      <td>97</td>\n",
       "      <td>1</td>\n",
       "      <td>...</td>\n",
       "      <td>2</td>\n",
       "      <td>2</td>\n",
       "      <td>1</td>\n",
       "      <td>2</td>\n",
       "      <td>2</td>\n",
       "      <td>2</td>\n",
       "      <td>2</td>\n",
       "      <td>2</td>\n",
       "      <td>3</td>\n",
       "      <td>97</td>\n",
       "    </tr>\n",
       "  </tbody>\n",
       "</table>\n",
       "<p>5 rows × 21 columns</p>\n",
       "</div>"
      ],
      "text/plain": [
       "   USMER  MEDICAL_UNIT  SEX  PATIENT_TYPE   DATE_DIED  INTUBED  PNEUMONIA  \\\n",
       "0      2             1    1             1  03/05/2020       97          1   \n",
       "1      2             1    2             1  03/06/2020       97          1   \n",
       "2      2             1    2             2  09/06/2020        1          2   \n",
       "3      2             1    1             1  12/06/2020       97          2   \n",
       "4      2             1    2             1  21/06/2020       97          2   \n",
       "\n",
       "   AGE  PREGNANT  DIABETES  ...  ASTHMA  INMSUPR  HIPERTENSION  OTHER_DISEASE  \\\n",
       "0   65         2         2  ...       2        2             1              2   \n",
       "1   72        97         2  ...       2        2             1              2   \n",
       "2   55        97         1  ...       2        2             2              2   \n",
       "3   53         2         2  ...       2        2             2              2   \n",
       "4   68        97         1  ...       2        2             1              2   \n",
       "\n",
       "   CARDIOVASCULAR  OBESITY  RENAL_CHRONIC  TOBACCO  CLASIFFICATION_FINAL  ICU  \n",
       "0               2        2              2        2                     3   97  \n",
       "1               2        1              1        2                     5   97  \n",
       "2               2        2              2        2                     3    2  \n",
       "3               2        2              2        2                     7   97  \n",
       "4               2        2              2        2                     3   97  \n",
       "\n",
       "[5 rows x 21 columns]"
      ]
     },
     "execution_count": 3,
     "metadata": {},
     "output_type": "execute_result"
    }
   ],
   "source": [
    "df.head()"
   ]
  },
  {
   "cell_type": "code",
   "execution_count": 4,
   "id": "10e7ed4b-6dc3-4a99-a85b-86c9b305ce37",
   "metadata": {},
   "outputs": [
    {
     "data": {
      "text/html": [
       "<div>\n",
       "<style scoped>\n",
       "    .dataframe tbody tr th:only-of-type {\n",
       "        vertical-align: middle;\n",
       "    }\n",
       "\n",
       "    .dataframe tbody tr th {\n",
       "        vertical-align: top;\n",
       "    }\n",
       "\n",
       "    .dataframe thead th {\n",
       "        text-align: right;\n",
       "    }\n",
       "</style>\n",
       "<table border=\"1\" class=\"dataframe\">\n",
       "  <thead>\n",
       "    <tr style=\"text-align: right;\">\n",
       "      <th></th>\n",
       "      <th>USMER</th>\n",
       "      <th>MEDICAL_UNIT</th>\n",
       "      <th>SEX</th>\n",
       "      <th>PATIENT_TYPE</th>\n",
       "      <th>DATE_DIED</th>\n",
       "      <th>INTUBED</th>\n",
       "      <th>PNEUMONIA</th>\n",
       "      <th>AGE</th>\n",
       "      <th>PREGNANT</th>\n",
       "      <th>DIABETES</th>\n",
       "      <th>...</th>\n",
       "      <th>ASTHMA</th>\n",
       "      <th>INMSUPR</th>\n",
       "      <th>HIPERTENSION</th>\n",
       "      <th>OTHER_DISEASE</th>\n",
       "      <th>CARDIOVASCULAR</th>\n",
       "      <th>OBESITY</th>\n",
       "      <th>RENAL_CHRONIC</th>\n",
       "      <th>TOBACCO</th>\n",
       "      <th>CLASIFFICATION_FINAL</th>\n",
       "      <th>ICU</th>\n",
       "    </tr>\n",
       "  </thead>\n",
       "  <tbody>\n",
       "    <tr>\n",
       "      <th>1048574</th>\n",
       "      <td>2</td>\n",
       "      <td>13</td>\n",
       "      <td>2</td>\n",
       "      <td>1</td>\n",
       "      <td>9999-99-99</td>\n",
       "      <td>97</td>\n",
       "      <td>2</td>\n",
       "      <td>52</td>\n",
       "      <td>97</td>\n",
       "      <td>2</td>\n",
       "      <td>...</td>\n",
       "      <td>2</td>\n",
       "      <td>2</td>\n",
       "      <td>2</td>\n",
       "      <td>2</td>\n",
       "      <td>2</td>\n",
       "      <td>2</td>\n",
       "      <td>2</td>\n",
       "      <td>2</td>\n",
       "      <td>7</td>\n",
       "      <td>97</td>\n",
       "    </tr>\n",
       "  </tbody>\n",
       "</table>\n",
       "<p>1 rows × 21 columns</p>\n",
       "</div>"
      ],
      "text/plain": [
       "         USMER  MEDICAL_UNIT  SEX  PATIENT_TYPE   DATE_DIED  INTUBED  \\\n",
       "1048574      2            13    2             1  9999-99-99       97   \n",
       "\n",
       "         PNEUMONIA  AGE  PREGNANT  DIABETES  ...  ASTHMA  INMSUPR  \\\n",
       "1048574          2   52        97         2  ...       2        2   \n",
       "\n",
       "         HIPERTENSION  OTHER_DISEASE  CARDIOVASCULAR  OBESITY  RENAL_CHRONIC  \\\n",
       "1048574             2              2               2        2              2   \n",
       "\n",
       "         TOBACCO  CLASIFFICATION_FINAL  ICU  \n",
       "1048574        2                     7   97  \n",
       "\n",
       "[1 rows x 21 columns]"
      ]
     },
     "execution_count": 4,
     "metadata": {},
     "output_type": "execute_result"
    }
   ],
   "source": [
    "df.tail(1)"
   ]
  },
  {
   "cell_type": "code",
   "execution_count": 5,
   "id": "ddc8c7aa-f380-453d-a75e-a0ed2143f1aa",
   "metadata": {},
   "outputs": [
    {
     "name": "stdout",
     "output_type": "stream",
     "text": [
      "Shape of the dataset is : 1048575, 21\n"
     ]
    }
   ],
   "source": [
    "print(f'Shape of the dataset is : {df.shape[0]}, {df.shape[1]}')"
   ]
  },
  {
   "cell_type": "code",
   "execution_count": 6,
   "id": "99231e36-8fd0-4010-a11b-d6f39a87b88e",
   "metadata": {},
   "outputs": [
    {
     "name": "stdout",
     "output_type": "stream",
     "text": [
      "<class 'pandas.core.frame.DataFrame'>\n",
      "RangeIndex: 1048575 entries, 0 to 1048574\n",
      "Data columns (total 21 columns):\n",
      " #   Column                Non-Null Count    Dtype \n",
      "---  ------                --------------    ----- \n",
      " 0   USMER                 1048575 non-null  int64 \n",
      " 1   MEDICAL_UNIT          1048575 non-null  int64 \n",
      " 2   SEX                   1048575 non-null  int64 \n",
      " 3   PATIENT_TYPE          1048575 non-null  int64 \n",
      " 4   DATE_DIED             1048575 non-null  object\n",
      " 5   INTUBED               1048575 non-null  int64 \n",
      " 6   PNEUMONIA             1048575 non-null  int64 \n",
      " 7   AGE                   1048575 non-null  int64 \n",
      " 8   PREGNANT              1048575 non-null  int64 \n",
      " 9   DIABETES              1048575 non-null  int64 \n",
      " 10  COPD                  1048575 non-null  int64 \n",
      " 11  ASTHMA                1048575 non-null  int64 \n",
      " 12  INMSUPR               1048575 non-null  int64 \n",
      " 13  HIPERTENSION          1048575 non-null  int64 \n",
      " 14  OTHER_DISEASE         1048575 non-null  int64 \n",
      " 15  CARDIOVASCULAR        1048575 non-null  int64 \n",
      " 16  OBESITY               1048575 non-null  int64 \n",
      " 17  RENAL_CHRONIC         1048575 non-null  int64 \n",
      " 18  TOBACCO               1048575 non-null  int64 \n",
      " 19  CLASIFFICATION_FINAL  1048575 non-null  int64 \n",
      " 20  ICU                   1048575 non-null  int64 \n",
      "dtypes: int64(20), object(1)\n",
      "memory usage: 168.0+ MB\n"
     ]
    }
   ],
   "source": [
    "df.info()"
   ]
  },
  {
   "cell_type": "code",
   "execution_count": 7,
   "id": "bc937652-9b0d-46f9-aa6c-4d55037945bd",
   "metadata": {},
   "outputs": [
    {
     "data": {
      "text/plain": [
       "USMER                    int64\n",
       "MEDICAL_UNIT             int64\n",
       "SEX                      int64\n",
       "PATIENT_TYPE             int64\n",
       "DATE_DIED               object\n",
       "INTUBED                  int64\n",
       "PNEUMONIA                int64\n",
       "AGE                      int64\n",
       "PREGNANT                 int64\n",
       "DIABETES                 int64\n",
       "COPD                     int64\n",
       "ASTHMA                   int64\n",
       "INMSUPR                  int64\n",
       "HIPERTENSION             int64\n",
       "OTHER_DISEASE            int64\n",
       "CARDIOVASCULAR           int64\n",
       "OBESITY                  int64\n",
       "RENAL_CHRONIC            int64\n",
       "TOBACCO                  int64\n",
       "CLASIFFICATION_FINAL     int64\n",
       "ICU                      int64\n",
       "dtype: object"
      ]
     },
     "execution_count": 7,
     "metadata": {},
     "output_type": "execute_result"
    }
   ],
   "source": [
    "df.dtypes"
   ]
  },
  {
   "cell_type": "code",
   "execution_count": null,
   "id": "e51807e6-a5d8-45d3-b305-f236278048ea",
   "metadata": {},
   "outputs": [],
   "source": []
  },
  {
   "cell_type": "markdown",
   "id": "d915fb26-31de-4906-b672-36f78e8412cb",
   "metadata": {
    "jp-MarkdownHeadingCollapsed": true
   },
   "source": [
    "### Most binary categorical fields use the following coding scheme:\n",
    "\n",
    "#### 1 = Yes / Positive\n",
    "#### 2 = No / Negative\n",
    "#### 97, 99 = Missing values\n",
    "#### 9999-99-99 represents that the person didn't die "
   ]
  },
  {
   "cell_type": "markdown",
   "id": "cdb1f3e3-af3b-452b-8b43-c388b2d0ea8d",
   "metadata": {},
   "source": [
    "### Since the missing values are represented as 97, 99. Going to convert them to Nan and then clean it "
   ]
  },
  {
   "cell_type": "code",
   "execution_count": 8,
   "id": "b3666910-cdea-456d-941b-1a2d987e13f9",
   "metadata": {},
   "outputs": [
    {
     "data": {
      "text/plain": [
       "np.int64(21)"
      ]
     },
     "execution_count": 8,
     "metadata": {},
     "output_type": "execute_result"
    }
   ],
   "source": [
    "cols = df.columns\n",
    "\n",
    "df[cols].isin([96, 97, 99,'9999-99-99']).any().count()"
   ]
  },
  {
   "cell_type": "code",
   "execution_count": 9,
   "id": "0a011788-a263-4fd6-ad6f-b9077d397235",
   "metadata": {},
   "outputs": [
    {
     "data": {
      "text/html": [
       "<div>\n",
       "<style scoped>\n",
       "    .dataframe tbody tr th:only-of-type {\n",
       "        vertical-align: middle;\n",
       "    }\n",
       "\n",
       "    .dataframe tbody tr th {\n",
       "        vertical-align: top;\n",
       "    }\n",
       "\n",
       "    .dataframe thead th {\n",
       "        text-align: right;\n",
       "    }\n",
       "</style>\n",
       "<table border=\"1\" class=\"dataframe\">\n",
       "  <thead>\n",
       "    <tr style=\"text-align: right;\">\n",
       "      <th></th>\n",
       "      <th>Missing values :</th>\n",
       "      <th>Missing Percent :</th>\n",
       "    </tr>\n",
       "  </thead>\n",
       "  <tbody>\n",
       "    <tr>\n",
       "      <th>USMER</th>\n",
       "      <td>0</td>\n",
       "      <td>0.000000</td>\n",
       "    </tr>\n",
       "    <tr>\n",
       "      <th>MEDICAL_UNIT</th>\n",
       "      <td>0</td>\n",
       "      <td>0.000000</td>\n",
       "    </tr>\n",
       "    <tr>\n",
       "      <th>SEX</th>\n",
       "      <td>0</td>\n",
       "      <td>0.000000</td>\n",
       "    </tr>\n",
       "    <tr>\n",
       "      <th>PATIENT_TYPE</th>\n",
       "      <td>0</td>\n",
       "      <td>0.000000</td>\n",
       "    </tr>\n",
       "    <tr>\n",
       "      <th>DATE_DIED</th>\n",
       "      <td>971633</td>\n",
       "      <td>92.662232</td>\n",
       "    </tr>\n",
       "    <tr>\n",
       "      <th>INTUBED</th>\n",
       "      <td>855869</td>\n",
       "      <td>81.622106</td>\n",
       "    </tr>\n",
       "    <tr>\n",
       "      <th>PNEUMONIA</th>\n",
       "      <td>16003</td>\n",
       "      <td>1.526166</td>\n",
       "    </tr>\n",
       "    <tr>\n",
       "      <th>AGE</th>\n",
       "      <td>416</td>\n",
       "      <td>0.039673</td>\n",
       "    </tr>\n",
       "    <tr>\n",
       "      <th>PREGNANT</th>\n",
       "      <td>523511</td>\n",
       "      <td>49.925947</td>\n",
       "    </tr>\n",
       "    <tr>\n",
       "      <th>DIABETES</th>\n",
       "      <td>0</td>\n",
       "      <td>0.000000</td>\n",
       "    </tr>\n",
       "    <tr>\n",
       "      <th>COPD</th>\n",
       "      <td>0</td>\n",
       "      <td>0.000000</td>\n",
       "    </tr>\n",
       "    <tr>\n",
       "      <th>ASTHMA</th>\n",
       "      <td>0</td>\n",
       "      <td>0.000000</td>\n",
       "    </tr>\n",
       "    <tr>\n",
       "      <th>INMSUPR</th>\n",
       "      <td>0</td>\n",
       "      <td>0.000000</td>\n",
       "    </tr>\n",
       "    <tr>\n",
       "      <th>HIPERTENSION</th>\n",
       "      <td>0</td>\n",
       "      <td>0.000000</td>\n",
       "    </tr>\n",
       "    <tr>\n",
       "      <th>OTHER_DISEASE</th>\n",
       "      <td>0</td>\n",
       "      <td>0.000000</td>\n",
       "    </tr>\n",
       "    <tr>\n",
       "      <th>CARDIOVASCULAR</th>\n",
       "      <td>0</td>\n",
       "      <td>0.000000</td>\n",
       "    </tr>\n",
       "    <tr>\n",
       "      <th>OBESITY</th>\n",
       "      <td>0</td>\n",
       "      <td>0.000000</td>\n",
       "    </tr>\n",
       "    <tr>\n",
       "      <th>RENAL_CHRONIC</th>\n",
       "      <td>0</td>\n",
       "      <td>0.000000</td>\n",
       "    </tr>\n",
       "    <tr>\n",
       "      <th>TOBACCO</th>\n",
       "      <td>0</td>\n",
       "      <td>0.000000</td>\n",
       "    </tr>\n",
       "    <tr>\n",
       "      <th>CLASIFFICATION_FINAL</th>\n",
       "      <td>0</td>\n",
       "      <td>0.000000</td>\n",
       "    </tr>\n",
       "    <tr>\n",
       "      <th>ICU</th>\n",
       "      <td>856032</td>\n",
       "      <td>81.637651</td>\n",
       "    </tr>\n",
       "  </tbody>\n",
       "</table>\n",
       "</div>"
      ],
      "text/plain": [
       "                      Missing values :   Missing Percent : \n",
       "USMER                                 0            0.000000\n",
       "MEDICAL_UNIT                          0            0.000000\n",
       "SEX                                   0            0.000000\n",
       "PATIENT_TYPE                          0            0.000000\n",
       "DATE_DIED                        971633           92.662232\n",
       "INTUBED                          855869           81.622106\n",
       "PNEUMONIA                         16003            1.526166\n",
       "AGE                                 416            0.039673\n",
       "PREGNANT                         523511           49.925947\n",
       "DIABETES                              0            0.000000\n",
       "COPD                                  0            0.000000\n",
       "ASTHMA                                0            0.000000\n",
       "INMSUPR                               0            0.000000\n",
       "HIPERTENSION                          0            0.000000\n",
       "OTHER_DISEASE                         0            0.000000\n",
       "CARDIOVASCULAR                        0            0.000000\n",
       "OBESITY                               0            0.000000\n",
       "RENAL_CHRONIC                         0            0.000000\n",
       "TOBACCO                               0            0.000000\n",
       "CLASIFFICATION_FINAL                  0            0.000000\n",
       "ICU                              856032           81.637651"
      ]
     },
     "execution_count": 9,
     "metadata": {},
     "output_type": "execute_result"
    }
   ],
   "source": [
    "mv = df[cols].isin([96, 97, 99, '9999-99-99']).sum()\n",
    "mp = (mv / len(df))*100\n",
    "\n",
    "data = pd.DataFrame({'Missing values : ' : mv, 'Missing Percent : ' : mp})\n",
    "data"
   ]
  },
  {
   "cell_type": "code",
   "execution_count": 10,
   "id": "2bd8acbd-0db3-40c8-9987-9bf25dd5ba34",
   "metadata": {},
   "outputs": [
    {
     "name": "stdout",
     "output_type": "stream",
     "text": [
      "USMER\n",
      "2    63.219417\n",
      "1    36.780583\n",
      "Name: proportion, dtype: float64\n",
      "MEDICAL_UNIT\n",
      "12    57.506139\n",
      "4     29.984026\n",
      "6      3.870396\n",
      "9      3.635028\n",
      "3      1.828672\n",
      "8      0.991727\n",
      "10     0.750829\n",
      "5      0.690842\n",
      "11     0.531865\n",
      "13     0.094986\n",
      "7      0.084972\n",
      "2      0.016117\n",
      "1      0.014400\n",
      "Name: proportion, dtype: float64\n",
      "SEX\n",
      "1    50.074053\n",
      "2    49.925947\n",
      "Name: proportion, dtype: float64\n",
      "PATIENT_TYPE\n",
      "1    80.923539\n",
      "2    19.076461\n",
      "Name: proportion, dtype: float64\n",
      "DATE_DIED\n",
      "9999-99-99    92.662232\n",
      "06/07/2020     0.095368\n",
      "07/07/2020     0.094986\n",
      "13/07/2020     0.094414\n",
      "16/06/2020     0.093365\n",
      "                ...    \n",
      "25/12/2020     0.000095\n",
      "01/01/2021     0.000095\n",
      "02/01/2021     0.000095\n",
      "07/01/2021     0.000095\n",
      "22/04/2021     0.000095\n",
      "Name: proportion, Length: 401, dtype: float64\n",
      "INTUBED\n",
      "97    80.923539\n",
      "2     15.168204\n",
      "1      3.209689\n",
      "99     0.698567\n",
      "Name: proportion, dtype: float64\n",
      "PNEUMONIA\n",
      "2     85.118756\n",
      "1     13.355077\n",
      "99     1.526166\n",
      "Name: proportion, dtype: float64\n",
      "AGE\n",
      "30     2.575877\n",
      "31     2.472594\n",
      "28     2.414038\n",
      "29     2.396967\n",
      "34     2.371981\n",
      "         ...   \n",
      "114    0.000191\n",
      "115    0.000191\n",
      "111    0.000095\n",
      "121    0.000095\n",
      "113    0.000095\n",
      "Name: proportion, Length: 121, dtype: float64\n",
      "PREGNANT\n",
      "97    49.925947\n",
      "2     48.940610\n",
      "1      0.775433\n",
      "98     0.358010\n",
      "Name: proportion, dtype: float64\n",
      "DIABETES\n",
      "2     87.761772\n",
      "1     11.919891\n",
      "98     0.318337\n",
      "Name: proportion, dtype: float64\n",
      "COPD\n",
      "2     98.277186\n",
      "1      1.436426\n",
      "98     0.286389\n",
      "Name: proportion, dtype: float64\n",
      "ASTHMA\n",
      "2     96.704957\n",
      "1      3.010943\n",
      "98     0.284100\n",
      "Name: proportion, dtype: float64\n",
      "INMSUPR\n",
      "2     98.324011\n",
      "1      1.351358\n",
      "98     0.324631\n",
      "Name: proportion, dtype: float64\n",
      "HIPERTENSION\n",
      "2     84.184918\n",
      "1     15.519062\n",
      "98     0.296021\n",
      "Name: proportion, dtype: float64\n",
      "OTHER_DISEASE\n",
      "2     96.844766\n",
      "1      2.674105\n",
      "98     0.481129\n",
      "Name: proportion, dtype: float64\n",
      "CARDIOVASCULAR\n",
      "2     97.725961\n",
      "1      1.980688\n",
      "98     0.293350\n",
      "Name: proportion, dtype: float64\n",
      "OBESITY\n",
      "2     84.469590\n",
      "1     15.241256\n",
      "98     0.289154\n",
      "Name: proportion, dtype: float64\n",
      "RENAL_CHRONIC\n",
      "2     97.910498\n",
      "1      1.802828\n",
      "98     0.286675\n",
      "Name: proportion, dtype: float64\n",
      "TOBACCO\n",
      "2     91.646186\n",
      "1      8.046730\n",
      "98     0.307083\n",
      "Name: proportion, dtype: float64\n",
      "CLASIFFICATION_FINAL\n",
      "7    47.612236\n",
      "3    36.385285\n",
      "6    12.219727\n",
      "5     2.488234\n",
      "1     0.820256\n",
      "4     0.297737\n",
      "2     0.176525\n",
      "Name: proportion, dtype: float64\n",
      "ICU\n",
      "97    80.923539\n",
      "2     16.754643\n",
      "1      1.607706\n",
      "99     0.714112\n",
      "Name: proportion, dtype: float64\n"
     ]
    }
   ],
   "source": [
    "for col in cols:\n",
    "    print(df[col].value_counts(normalize=True, dropna=False) * 100)"
   ]
  },
  {
   "cell_type": "code",
   "execution_count": 11,
   "id": "c6fe38b0-1fde-4785-b00a-42fcf25d19b8",
   "metadata": {},
   "outputs": [],
   "source": [
    "df[cols] = df[cols].replace([96, 97, 98, 99], np.nan)"
   ]
  },
  {
   "cell_type": "code",
   "execution_count": 12,
   "id": "e883fd73-c6e8-4b42-a40d-99856230d295",
   "metadata": {},
   "outputs": [
    {
     "data": {
      "text/html": [
       "<div>\n",
       "<style scoped>\n",
       "    .dataframe tbody tr th:only-of-type {\n",
       "        vertical-align: middle;\n",
       "    }\n",
       "\n",
       "    .dataframe tbody tr th {\n",
       "        vertical-align: top;\n",
       "    }\n",
       "\n",
       "    .dataframe thead th {\n",
       "        text-align: right;\n",
       "    }\n",
       "</style>\n",
       "<table border=\"1\" class=\"dataframe\">\n",
       "  <thead>\n",
       "    <tr style=\"text-align: right;\">\n",
       "      <th></th>\n",
       "      <th>Missing values :</th>\n",
       "      <th>Missing Percent :</th>\n",
       "    </tr>\n",
       "  </thead>\n",
       "  <tbody>\n",
       "    <tr>\n",
       "      <th>USMER</th>\n",
       "      <td>0</td>\n",
       "      <td>0.0</td>\n",
       "    </tr>\n",
       "    <tr>\n",
       "      <th>MEDICAL_UNIT</th>\n",
       "      <td>0</td>\n",
       "      <td>0.0</td>\n",
       "    </tr>\n",
       "    <tr>\n",
       "      <th>SEX</th>\n",
       "      <td>0</td>\n",
       "      <td>0.0</td>\n",
       "    </tr>\n",
       "    <tr>\n",
       "      <th>PATIENT_TYPE</th>\n",
       "      <td>0</td>\n",
       "      <td>0.0</td>\n",
       "    </tr>\n",
       "    <tr>\n",
       "      <th>DATE_DIED</th>\n",
       "      <td>0</td>\n",
       "      <td>0.0</td>\n",
       "    </tr>\n",
       "    <tr>\n",
       "      <th>INTUBED</th>\n",
       "      <td>0</td>\n",
       "      <td>0.0</td>\n",
       "    </tr>\n",
       "    <tr>\n",
       "      <th>PNEUMONIA</th>\n",
       "      <td>0</td>\n",
       "      <td>0.0</td>\n",
       "    </tr>\n",
       "    <tr>\n",
       "      <th>AGE</th>\n",
       "      <td>0</td>\n",
       "      <td>0.0</td>\n",
       "    </tr>\n",
       "    <tr>\n",
       "      <th>PREGNANT</th>\n",
       "      <td>0</td>\n",
       "      <td>0.0</td>\n",
       "    </tr>\n",
       "    <tr>\n",
       "      <th>DIABETES</th>\n",
       "      <td>0</td>\n",
       "      <td>0.0</td>\n",
       "    </tr>\n",
       "    <tr>\n",
       "      <th>COPD</th>\n",
       "      <td>0</td>\n",
       "      <td>0.0</td>\n",
       "    </tr>\n",
       "    <tr>\n",
       "      <th>ASTHMA</th>\n",
       "      <td>0</td>\n",
       "      <td>0.0</td>\n",
       "    </tr>\n",
       "    <tr>\n",
       "      <th>INMSUPR</th>\n",
       "      <td>0</td>\n",
       "      <td>0.0</td>\n",
       "    </tr>\n",
       "    <tr>\n",
       "      <th>HIPERTENSION</th>\n",
       "      <td>0</td>\n",
       "      <td>0.0</td>\n",
       "    </tr>\n",
       "    <tr>\n",
       "      <th>OTHER_DISEASE</th>\n",
       "      <td>0</td>\n",
       "      <td>0.0</td>\n",
       "    </tr>\n",
       "    <tr>\n",
       "      <th>CARDIOVASCULAR</th>\n",
       "      <td>0</td>\n",
       "      <td>0.0</td>\n",
       "    </tr>\n",
       "    <tr>\n",
       "      <th>OBESITY</th>\n",
       "      <td>0</td>\n",
       "      <td>0.0</td>\n",
       "    </tr>\n",
       "    <tr>\n",
       "      <th>RENAL_CHRONIC</th>\n",
       "      <td>0</td>\n",
       "      <td>0.0</td>\n",
       "    </tr>\n",
       "    <tr>\n",
       "      <th>TOBACCO</th>\n",
       "      <td>0</td>\n",
       "      <td>0.0</td>\n",
       "    </tr>\n",
       "    <tr>\n",
       "      <th>CLASIFFICATION_FINAL</th>\n",
       "      <td>0</td>\n",
       "      <td>0.0</td>\n",
       "    </tr>\n",
       "    <tr>\n",
       "      <th>ICU</th>\n",
       "      <td>0</td>\n",
       "      <td>0.0</td>\n",
       "    </tr>\n",
       "  </tbody>\n",
       "</table>\n",
       "</div>"
      ],
      "text/plain": [
       "                      Missing values :   Missing Percent : \n",
       "USMER                                 0                 0.0\n",
       "MEDICAL_UNIT                          0                 0.0\n",
       "SEX                                   0                 0.0\n",
       "PATIENT_TYPE                          0                 0.0\n",
       "DATE_DIED                             0                 0.0\n",
       "INTUBED                               0                 0.0\n",
       "PNEUMONIA                             0                 0.0\n",
       "AGE                                   0                 0.0\n",
       "PREGNANT                              0                 0.0\n",
       "DIABETES                              0                 0.0\n",
       "COPD                                  0                 0.0\n",
       "ASTHMA                                0                 0.0\n",
       "INMSUPR                               0                 0.0\n",
       "HIPERTENSION                          0                 0.0\n",
       "OTHER_DISEASE                         0                 0.0\n",
       "CARDIOVASCULAR                        0                 0.0\n",
       "OBESITY                               0                 0.0\n",
       "RENAL_CHRONIC                         0                 0.0\n",
       "TOBACCO                               0                 0.0\n",
       "CLASIFFICATION_FINAL                  0                 0.0\n",
       "ICU                                   0                 0.0"
      ]
     },
     "execution_count": 12,
     "metadata": {},
     "output_type": "execute_result"
    }
   ],
   "source": [
    "mv = df[cols].isin([96, 97, 98,99]).sum()\n",
    "mp = (mv / len(df))*100\n",
    "\n",
    "data = pd.DataFrame({'Missing values : ' : mv, 'Missing Percent : ' : mp})\n",
    "data"
   ]
  },
  {
   "cell_type": "code",
   "execution_count": 13,
   "id": "c4fdef34-ad09-4f65-a657-1a17ae99fd1b",
   "metadata": {},
   "outputs": [
    {
     "name": "stdout",
     "output_type": "stream",
     "text": [
      "Missing Percentage of each column : \n"
     ]
    },
    {
     "data": {
      "text/plain": [
       "ICU                     81.637651\n",
       "INTUBED                 81.622106\n",
       "PREGNANT                50.283957\n",
       "PNEUMONIA                1.526166\n",
       "OTHER_DISEASE            0.481129\n",
       "INMSUPR                  0.324631\n",
       "DIABETES                 0.318337\n",
       "TOBACCO                  0.307083\n",
       "HIPERTENSION             0.296021\n",
       "CARDIOVASCULAR           0.293350\n",
       "OBESITY                  0.289154\n",
       "RENAL_CHRONIC            0.286675\n",
       "COPD                     0.286389\n",
       "ASTHMA                   0.284100\n",
       "AGE                      0.051498\n",
       "DATE_DIED                0.000000\n",
       "MEDICAL_UNIT             0.000000\n",
       "USMER                    0.000000\n",
       "PATIENT_TYPE             0.000000\n",
       "SEX                      0.000000\n",
       "CLASIFFICATION_FINAL     0.000000\n",
       "dtype: float64"
      ]
     },
     "execution_count": 13,
     "metadata": {},
     "output_type": "execute_result"
    }
   ],
   "source": [
    "print('Missing Percentage of each column : ')\n",
    "(df.isna().sum() / len(df) * 100).sort_values(ascending=False)"
   ]
  },
  {
   "cell_type": "code",
   "execution_count": null,
   "id": "c059b6b7-bb25-48d9-a1f3-2acf370b6e48",
   "metadata": {},
   "outputs": [],
   "source": []
  },
  {
   "cell_type": "markdown",
   "id": "9d73c1d1-e242-4e48-a4a4-3e036de69892",
   "metadata": {},
   "source": [
    "### Handling the columns as per the missing values\n",
    "\n",
    "1. **Removing these columns** (missing values > 80%):\n",
    "   - `ICU`\n",
    "   - `INTUBED`\n",
    "\n",
    "2. **Filling `\"Unknown\"` for columns with ~50% missing values**:\n",
    "   - `PREGNANT`\n",
    "\n",
    "3. **Filling numeric columns with mean/median (low missing %)**:\n",
    "   - `PNEUMONIA`\n",
    "   - `OTHER_DISEASE`\n",
    "   - `INMSUPR`\n",
    "   - `DIABETES`\n",
    "   - `TOBACCO`\n",
    "   - `HIPERTENSION`\n",
    "   - `CARDIOVASCULAR`\n",
    "   - `OBESITY`\n",
    "   - `RENAL_CHRONIC`\n",
    "   - `COPD`\n",
    "   - `ASTHMA`\n",
    "   - `AGE`\n"
   ]
  },
  {
   "cell_type": "code",
   "execution_count": 14,
   "id": "7bcb88f5-3df6-434c-87fb-326ed58c135c",
   "metadata": {},
   "outputs": [],
   "source": [
    "df.drop(columns=['ICU', 'INTUBED'], inplace=True)"
   ]
  },
  {
   "cell_type": "code",
   "execution_count": 15,
   "id": "32bc08d9-7194-48d0-940f-d1d3bd900b6a",
   "metadata": {},
   "outputs": [
    {
     "data": {
      "text/plain": [
       "PREGNANT\n",
       "2.0    0.984403\n",
       "1.0    0.015597\n",
       "Name: proportion, dtype: float64"
      ]
     },
     "execution_count": 15,
     "metadata": {},
     "output_type": "execute_result"
    }
   ],
   "source": [
    "df['PREGNANT'].value_counts(normalize = True)"
   ]
  },
  {
   "cell_type": "code",
   "execution_count": 16,
   "id": "92d0cecb-9fa9-4868-a704-8937824bdd32",
   "metadata": {},
   "outputs": [],
   "source": [
    "df['PREGNANT'] = df['PREGNANT'].fillna('Unknown')"
   ]
  },
  {
   "cell_type": "code",
   "execution_count": 17,
   "id": "58d2402d-8b58-40ae-a5b2-2af6be5d0b2a",
   "metadata": {},
   "outputs": [],
   "source": [
    "df['PREGNANT'] = df['PREGNANT'].apply(lambda x: 'Yes' if x == 1.0 else 'Unknown' if x == 2.0 else 'No')"
   ]
  },
  {
   "cell_type": "code",
   "execution_count": 18,
   "id": "e62acd43-6592-4341-b0e6-08478f5f7ccb",
   "metadata": {},
   "outputs": [],
   "source": [
    "df['PREGNANT'] = df['PREGNANT'].astype('category')"
   ]
  },
  {
   "cell_type": "code",
   "execution_count": 19,
   "id": "c38d32a7-7cca-4df9-bc77-a4676ddf8417",
   "metadata": {},
   "outputs": [
    {
     "data": {
      "text/plain": [
       "PREGNANT\n",
       "No         0.502840\n",
       "Unknown    0.489406\n",
       "Yes        0.007754\n",
       "Name: proportion, dtype: float64"
      ]
     },
     "execution_count": 19,
     "metadata": {},
     "output_type": "execute_result"
    }
   ],
   "source": [
    "df['PREGNANT'].value_counts(normalize = True)"
   ]
  },
  {
   "cell_type": "code",
   "execution_count": 20,
   "id": "b3049989-8306-4f48-a045-cea91491dbe7",
   "metadata": {},
   "outputs": [
    {
     "data": {
      "text/plain": [
       "np.int64(0)"
      ]
     },
     "execution_count": 20,
     "metadata": {},
     "output_type": "execute_result"
    }
   ],
   "source": [
    "cols = ['PNEUMONIA', 'AGE', 'DIABETES', 'COPD', 'ASTHMA', 'INMSUPR',\n",
    "       'HIPERTENSION', 'OTHER_DISEASE', 'CARDIOVASCULAR', 'OBESITY',\n",
    "       'RENAL_CHRONIC', 'TOBACCO']\n",
    "\n",
    "for col in cols:\n",
    "    df[col] = df[col].fillna(df[col].mode()[0])\n",
    "\n",
    "df.isnull().any().sum()"
   ]
  },
  {
   "cell_type": "code",
   "execution_count": 21,
   "id": "1a94f27d-833b-4233-87ac-152355584480",
   "metadata": {},
   "outputs": [],
   "source": [
    "df['DEATH_STATUS'] = df['DATE_DIED'].apply(lambda x: 'ALIVE' if x == '9999-99-99' else 'DEAD')"
   ]
  },
  {
   "cell_type": "code",
   "execution_count": 22,
   "id": "d47fbf51-6188-4fe4-9065-d043df09a878",
   "metadata": {},
   "outputs": [],
   "source": [
    "df.drop(columns = ['DATE_DIED'], inplace = True)"
   ]
  },
  {
   "cell_type": "markdown",
   "id": "a0f125d2-2ce6-4eb4-9652-a5afdc350f0f",
   "metadata": {},
   "source": [
    "### Converting some numerical columns to categorical columns "
   ]
  },
  {
   "cell_type": "code",
   "execution_count": 23,
   "id": "081d55b7-e9dc-45bf-865e-f677eb0e1975",
   "metadata": {},
   "outputs": [
    {
     "name": "stdout",
     "output_type": "stream",
     "text": [
      "USMER [2 1]\n",
      "PNEUMONIA [1. 2.]\n",
      "DIABETES [2. 1.]\n",
      "COPD [2. 1.]\n",
      "ASTHMA [2. 1.]\n",
      "INMSUPR [2. 1.]\n",
      "HIPERTENSION [1. 2.]\n",
      "OTHER_DISEASE [2. 1.]\n",
      "CARDIOVASCULAR [2. 1.]\n",
      "OBESITY [2. 1.]\n",
      "RENAL_CHRONIC [2. 1.]\n",
      "TOBACCO [2. 1.]\n"
     ]
    }
   ],
   "source": [
    "cols = df[['USMER', 'PNEUMONIA', 'DIABETES', 'COPD', 'ASTHMA', 'INMSUPR', 'HIPERTENSION',\n",
    "       'OTHER_DISEASE', 'CARDIOVASCULAR', 'OBESITY', 'RENAL_CHRONIC',\n",
    "       'TOBACCO']]\n",
    "for col in cols:\n",
    "    print(col, df[col].unique())"
   ]
  },
  {
   "cell_type": "markdown",
   "id": "106d89e1-3e3c-4502-bc3c-5182135c5386",
   "metadata": {},
   "source": [
    "## Column Mappings\n",
    "### 1. USMER\n",
    "-  `USMER`\n",
    "-  **1** - Level 1\n",
    "-  **2** - Level 2\n",
    "### 2. Yes / No Columns\n",
    "- `PNEUMONIA`, `DIABETES`, `COPD`, `ASTHMA`, `INMSUPR`, `HIPERTENSION`,\n",
    "  `OTHER_DISEASE`, `CARDIOVASCULAR`, `OBESITY`, `RENAL_CHRONIC`, `TOBACCO`  \n",
    "- **1** - Yes  \n",
    "- **2** - No   \n",
    "\n",
    "### 3. `SEX`\n",
    "- **1** - Female  \n",
    "- **2** - Male  \n",
    "\n",
    "### 4. `PATIENT_TYPE`\n",
    "- **1** - Outpatient  \n",
    "- **2** - Hospitalized  \n",
    "\n",
    "### 5. `CLASSIFICATION_FINAL` (COVID-19 Classification)\n",
    "- **1** - Laboratory Test  \n",
    "- **2** - Epidemiologic Link  \n",
    "- **3** - Expert Judgement  \n",
    "- **4** - Suspected Case  \n",
    "- **5** - Not COVID-19  \n",
    "- **6** - Pending Result  \n",
    "- **7** - Invalid  \n"
   ]
  },
  {
   "cell_type": "code",
   "execution_count": 24,
   "id": "d58267e9-ea70-4f41-af88-16db8a7d9389",
   "metadata": {},
   "outputs": [],
   "source": [
    "cols = df[['PNEUMONIA', 'DIABETES', 'COPD', 'ASTHMA', 'INMSUPR', 'HIPERTENSION',\n",
    "       'OTHER_DISEASE', 'CARDIOVASCULAR', 'OBESITY', 'RENAL_CHRONIC',\n",
    "       'TOBACCO']]\n",
    "for col in cols:\n",
    "    df[col] = df[col].apply(lambda x : 'Yes' if x == 1 else 'No')"
   ]
  },
  {
   "cell_type": "code",
   "execution_count": 25,
   "id": "0f75dc2e-1d9b-4939-8540-61fcb05ed155",
   "metadata": {},
   "outputs": [],
   "source": [
    "df['SEX'] = df['SEX'].apply(lambda x : 'Female' if x == 1 else 'Male')\n",
    "df['PATIENT_TYPE'] = df['PATIENT_TYPE'].apply(lambda x : 'Outpatient' if x == 1 else 'Hospitalized')\n",
    "df['USMER'] = df['USMER'].apply(lambda x : 'Level-1' if x == 1 else 'Level-2')"
   ]
  },
  {
   "cell_type": "code",
   "execution_count": 26,
   "id": "b195ab64-d916-43ab-b371-5a919fa129a8",
   "metadata": {},
   "outputs": [],
   "source": [
    "df['CLASIFFICATION_FINAL'] = df['CLASIFFICATION_FINAL'].map({\n",
    "    1: \"Laboratory Test\", 2: \"Epidemiologic Link\", 3: \"Expert Judgement\", 4: \"Suspected Case\", 5: \"Not COVID-19\", 6: \"Pending Result\", 7: \"Invalid\"\n",
    "})"
   ]
  },
  {
   "cell_type": "code",
   "execution_count": 27,
   "id": "40c98221-fe61-491f-a6f5-afcd49d17367",
   "metadata": {},
   "outputs": [],
   "source": [
    "df['AGE'] = df['AGE'].astype(int)"
   ]
  },
  {
   "cell_type": "markdown",
   "id": "ad4e8cac-9c65-4fcf-aa8c-21ff2af7785d",
   "metadata": {},
   "source": [
    "### It looks like there are some age data > 100"
   ]
  },
  {
   "cell_type": "code",
   "execution_count": 28,
   "id": "cb8880d3-83e9-46bd-847a-b8fde377406c",
   "metadata": {},
   "outputs": [
    {
     "data": {
      "text/plain": [
       "array([121, 120, 119, 118, 117, 116, 115, 114, 113, 111, 110, 109, 108,\n",
       "       107, 106, 105, 104, 103, 102, 101, 100,  95,  94,  93,  92,  91,\n",
       "        90,  89,  88,  87,  86,  85,  84,  83,  82,  81,  80,  79,  78,\n",
       "        77,  76,  75,  74,  73,  72,  71,  70,  69,  68,  67,  66,  65,\n",
       "        64,  63,  62,  61,  60,  59,  58,  57,  56,  55,  54,  53,  52,\n",
       "        51,  50,  49,  48,  47,  46,  45,  44,  43,  42,  41,  40,  39,\n",
       "        38,  37,  36,  35,  34,  33,  32,  31,  30,  29,  28,  27,  26,\n",
       "        25,  24,  23,  22,  21,  20,  19,  18,  17,  16,  15,  14,  13,\n",
       "        12,  11,  10,   9,   8,   7,   6,   5,   4,   3,   2,   1,   0])"
      ]
     },
     "execution_count": 28,
     "metadata": {},
     "output_type": "execute_result"
    }
   ],
   "source": [
    "df['AGE'].sort_values(ascending=False).unique()"
   ]
  },
  {
   "cell_type": "code",
   "execution_count": 29,
   "id": "07da1844-b07b-4931-901a-725e60d44709",
   "metadata": {},
   "outputs": [
    {
     "name": "stdout",
     "output_type": "stream",
     "text": [
      "And the total number of data where the Age >= 100 is :  138\n"
     ]
    }
   ],
   "source": [
    "print('And the total number of data where the Age >= 100 is : ', df[df['AGE'] > 100].shape[0])"
   ]
  },
  {
   "cell_type": "code",
   "execution_count": 30,
   "id": "c8fa33e9-9ab9-40c2-af7c-106dfd4fa76f",
   "metadata": {},
   "outputs": [
    {
     "data": {
      "image/png": "[encoded data removed]",
      "text/plain": [
       "<Figure size 640x480 with 2 Axes>"
      ]
     },
     "metadata": {},
     "output_type": "display_data"
    }
   ],
   "source": [
    "plt.subplot(1, 2, 1)\n",
    "sns.boxplot(df['AGE'])\n",
    "plt.title('Box plot')\n",
    "\n",
    "plt.subplot(1, 2, 2)\n",
    "sns.histplot(df['AGE'], kde = True)\n",
    "plt.title('Histogram plot')\n",
    "plt.show()"
   ]
  },
  {
   "cell_type": "code",
   "execution_count": 276,
   "id": "c6da29e3-ce73-4747-9ab7-06970450f6e7",
   "metadata": {},
   "outputs": [
    {
     "data": {
      "text/plain": [
       "(1048575,)"
      ]
     },
     "execution_count": 276,
     "metadata": {},
     "output_type": "execute_result"
    }
   ],
   "source": [
    "df['AGE'].shape"
   ]
  },
  {
   "cell_type": "markdown",
   "id": "7db39da9-e2a1-4a15-90a7-340bad05282d",
   "metadata": {},
   "source": [
    "### Since some age values are >100, going to remove them "
   ]
  },
  {
   "cell_type": "code",
   "execution_count": 277,
   "id": "72a358c6-c9c5-44dc-a0ba-20602e7c80a8",
   "metadata": {},
   "outputs": [],
   "source": [
    "df = df[df['AGE'] <= 100].copy()"
   ]
  },
  {
   "cell_type": "code",
   "execution_count": 28,
   "id": "185f138d-54a1-476d-9c9e-95efb46ad471",
   "metadata": {},
   "outputs": [
    {
     "data": {
      "text/html": [
       "<div>\n",
       "<style scoped>\n",
       "    .dataframe tbody tr th:only-of-type {\n",
       "        vertical-align: middle;\n",
       "    }\n",
       "\n",
       "    .dataframe tbody tr th {\n",
       "        vertical-align: top;\n",
       "    }\n",
       "\n",
       "    .dataframe thead th {\n",
       "        text-align: right;\n",
       "    }\n",
       "</style>\n",
       "<table border=\"1\" class=\"dataframe\">\n",
       "  <thead>\n",
       "    <tr style=\"text-align: right;\">\n",
       "      <th></th>\n",
       "      <th>USMER</th>\n",
       "      <th>MEDICAL_UNIT</th>\n",
       "      <th>SEX</th>\n",
       "      <th>PATIENT_TYPE</th>\n",
       "      <th>PNEUMONIA</th>\n",
       "      <th>AGE</th>\n",
       "      <th>PREGNANT</th>\n",
       "      <th>DIABETES</th>\n",
       "      <th>COPD</th>\n",
       "      <th>ASTHMA</th>\n",
       "      <th>INMSUPR</th>\n",
       "      <th>HIPERTENSION</th>\n",
       "      <th>OTHER_DISEASE</th>\n",
       "      <th>CARDIOVASCULAR</th>\n",
       "      <th>OBESITY</th>\n",
       "      <th>RENAL_CHRONIC</th>\n",
       "      <th>TOBACCO</th>\n",
       "      <th>CLASIFFICATION_FINAL</th>\n",
       "      <th>DEATH_STATUS</th>\n",
       "    </tr>\n",
       "  </thead>\n",
       "  <tbody>\n",
       "    <tr>\n",
       "      <th>0</th>\n",
       "      <td>Level-2</td>\n",
       "      <td>1</td>\n",
       "      <td>Female</td>\n",
       "      <td>Outpatient</td>\n",
       "      <td>Yes</td>\n",
       "      <td>65</td>\n",
       "      <td>Unknown</td>\n",
       "      <td>No</td>\n",
       "      <td>No</td>\n",
       "      <td>No</td>\n",
       "      <td>No</td>\n",
       "      <td>Yes</td>\n",
       "      <td>No</td>\n",
       "      <td>No</td>\n",
       "      <td>No</td>\n",
       "      <td>No</td>\n",
       "      <td>No</td>\n",
       "      <td>Expert Judgement</td>\n",
       "      <td>DEAD</td>\n",
       "    </tr>\n",
       "    <tr>\n",
       "      <th>1</th>\n",
       "      <td>Level-2</td>\n",
       "      <td>1</td>\n",
       "      <td>Male</td>\n",
       "      <td>Outpatient</td>\n",
       "      <td>Yes</td>\n",
       "      <td>72</td>\n",
       "      <td>No</td>\n",
       "      <td>No</td>\n",
       "      <td>No</td>\n",
       "      <td>No</td>\n",
       "      <td>No</td>\n",
       "      <td>Yes</td>\n",
       "      <td>No</td>\n",
       "      <td>No</td>\n",
       "      <td>Yes</td>\n",
       "      <td>Yes</td>\n",
       "      <td>No</td>\n",
       "      <td>Not COVID-19</td>\n",
       "      <td>DEAD</td>\n",
       "    </tr>\n",
       "    <tr>\n",
       "      <th>2</th>\n",
       "      <td>Level-2</td>\n",
       "      <td>1</td>\n",
       "      <td>Male</td>\n",
       "      <td>Hospitalized</td>\n",
       "      <td>No</td>\n",
       "      <td>55</td>\n",
       "      <td>No</td>\n",
       "      <td>Yes</td>\n",
       "      <td>No</td>\n",
       "      <td>No</td>\n",
       "      <td>No</td>\n",
       "      <td>No</td>\n",
       "      <td>No</td>\n",
       "      <td>No</td>\n",
       "      <td>No</td>\n",
       "      <td>No</td>\n",
       "      <td>No</td>\n",
       "      <td>Expert Judgement</td>\n",
       "      <td>DEAD</td>\n",
       "    </tr>\n",
       "    <tr>\n",
       "      <th>3</th>\n",
       "      <td>Level-2</td>\n",
       "      <td>1</td>\n",
       "      <td>Female</td>\n",
       "      <td>Outpatient</td>\n",
       "      <td>No</td>\n",
       "      <td>53</td>\n",
       "      <td>Unknown</td>\n",
       "      <td>No</td>\n",
       "      <td>No</td>\n",
       "      <td>No</td>\n",
       "      <td>No</td>\n",
       "      <td>No</td>\n",
       "      <td>No</td>\n",
       "      <td>No</td>\n",
       "      <td>No</td>\n",
       "      <td>No</td>\n",
       "      <td>No</td>\n",
       "      <td>Invalid</td>\n",
       "      <td>DEAD</td>\n",
       "    </tr>\n",
       "    <tr>\n",
       "      <th>4</th>\n",
       "      <td>Level-2</td>\n",
       "      <td>1</td>\n",
       "      <td>Male</td>\n",
       "      <td>Outpatient</td>\n",
       "      <td>No</td>\n",
       "      <td>68</td>\n",
       "      <td>No</td>\n",
       "      <td>Yes</td>\n",
       "      <td>No</td>\n",
       "      <td>No</td>\n",
       "      <td>No</td>\n",
       "      <td>Yes</td>\n",
       "      <td>No</td>\n",
       "      <td>No</td>\n",
       "      <td>No</td>\n",
       "      <td>No</td>\n",
       "      <td>No</td>\n",
       "      <td>Expert Judgement</td>\n",
       "      <td>DEAD</td>\n",
       "    </tr>\n",
       "  </tbody>\n",
       "</table>\n",
       "</div>"
      ],
      "text/plain": [
       "     USMER  MEDICAL_UNIT     SEX  PATIENT_TYPE PNEUMONIA  AGE PREGNANT  \\\n",
       "0  Level-2             1  Female    Outpatient       Yes   65  Unknown   \n",
       "1  Level-2             1    Male    Outpatient       Yes   72       No   \n",
       "2  Level-2             1    Male  Hospitalized        No   55       No   \n",
       "3  Level-2             1  Female    Outpatient        No   53  Unknown   \n",
       "4  Level-2             1    Male    Outpatient        No   68       No   \n",
       "\n",
       "  DIABETES COPD ASTHMA INMSUPR HIPERTENSION OTHER_DISEASE CARDIOVASCULAR  \\\n",
       "0       No   No     No      No          Yes            No             No   \n",
       "1       No   No     No      No          Yes            No             No   \n",
       "2      Yes   No     No      No           No            No             No   \n",
       "3       No   No     No      No           No            No             No   \n",
       "4      Yes   No     No      No          Yes            No             No   \n",
       "\n",
       "  OBESITY RENAL_CHRONIC TOBACCO CLASIFFICATION_FINAL DEATH_STATUS  \n",
       "0      No            No      No     Expert Judgement         DEAD  \n",
       "1     Yes           Yes      No         Not COVID-19         DEAD  \n",
       "2      No            No      No     Expert Judgement         DEAD  \n",
       "3      No            No      No              Invalid         DEAD  \n",
       "4      No            No      No     Expert Judgement         DEAD  "
      ]
     },
     "execution_count": 28,
     "metadata": {},
     "output_type": "execute_result"
    }
   ],
   "source": [
    "df.head()"
   ]
  },
  {
   "cell_type": "code",
   "execution_count": 33,
   "id": "59b1a4a1-c22a-4e50-81cd-4446998a54fa",
   "metadata": {},
   "outputs": [
    {
     "data": {
      "text/plain": [
       "Index(['USMER', 'MEDICAL_UNIT', 'SEX', 'PATIENT_TYPE', 'PNEUMONIA', 'AGE',\n",
       "       'PREGNANT', 'DIABETES', 'COPD', 'ASTHMA', 'INMSUPR', 'HIPERTENSION',\n",
       "       'OTHER_DISEASE', 'CARDIOVASCULAR', 'OBESITY', 'RENAL_CHRONIC',\n",
       "       'TOBACCO', 'CLASIFFICATION_FINAL', 'DEATH_STATUS'],\n",
       "      dtype='object')"
      ]
     },
     "execution_count": 33,
     "metadata": {},
     "output_type": "execute_result"
    }
   ],
   "source": [
    "df.columns"
   ]
  },
  {
   "cell_type": "code",
   "execution_count": 34,
   "id": "2665f4ba-c952-4201-accf-cf3649c9d976",
   "metadata": {},
   "outputs": [],
   "source": [
    "cols = ['USMER', 'MEDICAL_UNIT', 'SEX', 'PATIENT_TYPE', 'PNEUMONIA', 'AGE',\n",
    "       'PREGNANT', 'DIABETES', 'COPD', 'ASTHMA', 'INMSUPR', 'HIPERTENSION',\n",
    "       'OTHER_DISEASE', 'CARDIOVASCULAR', 'OBESITY', 'RENAL_CHRONIC',\n",
    "       'TOBACCO', 'CLASIFFICATION_FINAL', 'DEATH_STATUS']\n",
    "\n",
    "df_filtered = df[cols].sample(n=1000000, random_state=42)  \n"
   ]
  },
  {
   "cell_type": "code",
   "execution_count": 35,
   "id": "346ece60-d1a2-4c8f-a3e2-c3a7368a2bef",
   "metadata": {},
   "outputs": [
    {
     "data": {
      "text/plain": [
       "USMER                   False\n",
       "MEDICAL_UNIT            False\n",
       "SEX                     False\n",
       "PATIENT_TYPE            False\n",
       "PNEUMONIA               False\n",
       "AGE                     False\n",
       "PREGNANT                False\n",
       "DIABETES                False\n",
       "COPD                    False\n",
       "ASTHMA                  False\n",
       "INMSUPR                 False\n",
       "HIPERTENSION            False\n",
       "OTHER_DISEASE           False\n",
       "CARDIOVASCULAR          False\n",
       "OBESITY                 False\n",
       "RENAL_CHRONIC           False\n",
       "TOBACCO                 False\n",
       "CLASIFFICATION_FINAL    False\n",
       "DEATH_STATUS            False\n",
       "dtype: bool"
      ]
     },
     "execution_count": 35,
     "metadata": {},
     "output_type": "execute_result"
    }
   ],
   "source": [
    "df_filtered.isnull().any()"
   ]
  },
  {
   "cell_type": "code",
   "execution_count": 36,
   "id": "0a407981-6ed0-4092-84a8-600c2703bd4c",
   "metadata": {},
   "outputs": [],
   "source": [
    "df_filtered.to_csv(\"Covid19CleanedData.csv\", index=False)"
   ]
  },
  {
   "cell_type": "code",
   "execution_count": null,
   "id": "6f7c0ddb-da8d-4ff0-b570-7ce915195109",
   "metadata": {},
   "outputs": [],
   "source": []
  }
 ],
 "metadata": {
  "kernelspec": {
   "display_name": "Python 3 (ipykernel)",
   "language": "python",
   "name": "python3"
  },
  "language_info": {
   "codemirror_mode": {
    "name": "ipython",
    "version": 3
   },
   "file_extension": ".py",
   "mimetype": "text/x-python",
   "name": "python",
   "nbconvert_exporter": "python",
   "pygments_lexer": "ipython3",
   "version": "3.13.5"
  }
 },
 "nbformat": 4,
 "nbformat_minor": 5
}
